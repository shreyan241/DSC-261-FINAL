{
 "cells": [
  {
   "cell_type": "code",
   "execution_count": 1,
   "metadata": {},
   "outputs": [
    {
     "name": "stderr",
     "output_type": "stream",
     "text": [
      "IProgress not found. Please update jupyter and ipywidgets. See https://ipywidgets.readthedocs.io/en/stable/user_install.html\n",
      "Using TensorFlow backend.\n"
     ]
    }
   ],
   "source": [
    "import pandas as pd\n",
    "import numpy as np\n",
    "import shap"
   ]
  },
  {
   "cell_type": "code",
   "execution_count": 4,
   "metadata": {},
   "outputs": [],
   "source": [
    "for dataset in [\"compas\", \"cc\", \"german\"]:\n",
    "    df = pd.read_csv(rf'C:\\Users\\shrey\\Desktop\\DSC 261\\DSC-261-FINAL\\Data\\{dataset}_RBF_train.csv')\n",
    "    df = pd.get_dummies(df)\n",
    "    num_rows, num_cols = df.shape\n",
    "    # Assuming self.generator_specs[\"perturbation_std\"] is defined, replace it with the actual value if needed\n",
    "    perturbation_std = 0.3  # Example: 0.1 or any other value\n",
    "\n",
    "    # Generate new data for the entire DataFrame\n",
    "    df_generated = np.random.normal(0, perturbation_std, size=(num_rows, num_cols))\n",
    "\n",
    "    # Convert the generated data into a DataFrame, ensuring it has the same column names as the original DataFrame\n",
    "    df_new = pd.DataFrame(df_generated, columns=df.columns)\n",
    "\n",
    "    df_new.drop(columns=['response'], inplace=True)\n",
    "    output_file_path = rf'C:\\Users\\shrey\\Desktop\\DSC 261\\DSC-261-FINAL\\Data\\{dataset}_adversarial_train_perturbation.csv'  # Specify your output file path\n",
    "    df_new.to_csv(output_file_path, index=False)"
   ]
  },
  {
   "cell_type": "code",
   "execution_count": 3,
   "metadata": {},
   "outputs": [],
   "source": [
    "from copy import deepcopy\n",
    "dataset = \"compas\"\n",
    "# Assuming X is your dataset\n",
    "# If X is a DataFrame, convert it to a NumPy array\n",
    "df = pd.read_csv(rf'C:\\Users\\shrey\\Desktop\\DSC 261\\DSC-261-FINAL\\Data\\{dataset}_RBF_train.csv')\n",
    "df = pd.get_dummies(df)\n",
    "X = df.to_numpy()\n",
    "\n",
    "# Perform SHAP k-means clustering to obtain the background distribution\n",
    "n_kmeans = 32  # Adjust based on your dataset size and diversity\n",
    "kmeans_summary = shap.kmeans(X, n_kmeans)\n",
    "background_distribution = kmeans_summary.data\n",
    "n_samples = len(X)  # Number of new samples to generate\n",
    "new_instances = []  # List to store new instances\n",
    "\n",
    "for _ in range(int(n_samples)):\n",
    "    i = np.random.choice(X.shape[0])\n",
    "    point = deepcopy(X[i, :])\n",
    "\n",
    "    # Iterate over points, sampling and updating\n",
    "    for _ in range(X.shape[1]):\n",
    "        j = np.random.choice(X.shape[1])\n",
    "        point[j] = deepcopy(background_distribution[np.random.choice(background_distribution.shape[0]), j])\n",
    "\n",
    "    new_instances.append(point)\n",
    "\n",
    "# Convert the list of new instances into a numpy array\n",
    "substituted_training_data = np.vstack(new_instances)\n",
    "\n",
    "\n",
    "# Convert the numpy array back to a pandas DataFrame if needed\n",
    "# Assuming you know the column names, or they are simply feature indices\n",
    "df_substituted = pd.DataFrame(substituted_training_data, columns=df.columns)\n",
    "# Desired order for the columns\n",
    "new_order = ['age', 'two_year_recid', 'priors_count', 'length_of_stay', \n",
    "             'c_charge_degree_F', 'c_charge_degree_M', 'sex_Female', 'sex_Male', \n",
    "             'race', 'unrelated_column_one', 'unrelated_column_two']\n",
    "\n",
    "# Reindex the DataFrame using the new order\n",
    "df_substituted = df[new_order]\n",
    "output_file_path = rf'C:\\Users\\shrey\\Desktop\\DSC 261\\DSC-261-FINAL\\Data\\shap_{dataset}_adversarial_train_perturbation.csv'  # Specify your output file path\n",
    "df_substituted.to_csv(output_file_path, index=False)"
   ]
  },
  {
   "cell_type": "code",
   "execution_count": null,
   "metadata": {},
   "outputs": [],
   "source": []
  },
  {
   "cell_type": "code",
   "execution_count": null,
   "metadata": {},
   "outputs": [],
   "source": []
  },
  {
   "cell_type": "code",
   "execution_count": null,
   "metadata": {},
   "outputs": [],
   "source": []
  },
  {
   "cell_type": "code",
   "execution_count": null,
   "metadata": {},
   "outputs": [],
   "source": []
  },
  {
   "cell_type": "code",
   "execution_count": null,
   "metadata": {},
   "outputs": [],
   "source": []
  },
  {
   "cell_type": "code",
   "execution_count": null,
   "metadata": {},
   "outputs": [],
   "source": []
  },
  {
   "cell_type": "code",
   "execution_count": null,
   "metadata": {},
   "outputs": [],
   "source": []
  },
  {
   "cell_type": "code",
   "execution_count": null,
   "metadata": {},
   "outputs": [],
   "source": []
  },
  {
   "cell_type": "code",
   "execution_count": null,
   "metadata": {},
   "outputs": [],
   "source": []
  },
  {
   "cell_type": "code",
   "execution_count": null,
   "metadata": {},
   "outputs": [],
   "source": []
  },
  {
   "cell_type": "code",
   "execution_count": null,
   "metadata": {},
   "outputs": [],
   "source": []
  },
  {
   "cell_type": "code",
   "execution_count": null,
   "metadata": {},
   "outputs": [],
   "source": []
  },
  {
   "cell_type": "code",
   "execution_count": null,
   "metadata": {},
   "outputs": [],
   "source": []
  },
  {
   "cell_type": "code",
   "execution_count": null,
   "metadata": {},
   "outputs": [],
   "source": []
  },
  {
   "cell_type": "code",
   "execution_count": null,
   "metadata": {},
   "outputs": [],
   "source": []
  },
  {
   "cell_type": "code",
   "execution_count": null,
   "metadata": {},
   "outputs": [],
   "source": []
  },
  {
   "cell_type": "code",
   "execution_count": null,
   "metadata": {},
   "outputs": [],
   "source": []
  },
  {
   "cell_type": "code",
   "execution_count": null,
   "metadata": {},
   "outputs": [],
   "source": []
  },
  {
   "cell_type": "code",
   "execution_count": null,
   "metadata": {},
   "outputs": [],
   "source": []
  },
  {
   "cell_type": "code",
   "execution_count": null,
   "metadata": {},
   "outputs": [],
   "source": []
  },
  {
   "cell_type": "code",
   "execution_count": null,
   "metadata": {},
   "outputs": [],
   "source": []
  },
  {
   "cell_type": "code",
   "execution_count": null,
   "metadata": {},
   "outputs": [],
   "source": []
  }
 ],
 "metadata": {
  "kernelspec": {
   "display_name": "fooling_limeshap",
   "language": "python",
   "name": "python3"
  },
  "language_info": {
   "codemirror_mode": {
    "name": "ipython",
    "version": 3
   },
   "file_extension": ".py",
   "mimetype": "text/x-python",
   "name": "python",
   "nbconvert_exporter": "python",
   "pygments_lexer": "ipython3",
   "version": "3.7.16"
  }
 },
 "nbformat": 4,
 "nbformat_minor": 2
}
